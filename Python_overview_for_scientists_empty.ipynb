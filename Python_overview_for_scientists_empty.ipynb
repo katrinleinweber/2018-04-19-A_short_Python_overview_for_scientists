{
 "cells": [
  {
   "cell_type": "markdown",
   "metadata": {},
   "source": [
    "## Python - A quick overview for scientists \n",
    "\n",
    "2018-04-19, Comprehensive Heart Failure Center, University Clinic Würzburg\n",
    "\n",
    "by Konrad U. Förstner <konrad.foerstner@uni-wuerzburg.de>, Core Unit Systems Medicine\n",
    "\n",
    "https://github.com/konrad/2018-04-19-A_short_Python_overview_for_scientists"
   ]
  },
  {
   "cell_type": "markdown",
   "metadata": {},
   "source": [
    "<img src=\"qrcode.png\" alt=\"Drawing\" style=\"width: 200px\"/>"
   ]
  },
  {
   "cell_type": "markdown",
   "metadata": {},
   "source": [
    "## Intro"
   ]
  },
  {
   "cell_type": "markdown",
   "metadata": {},
   "source": [
    "### Fastest growing language (in data science and in general)\n",
    "\n",
    "* [stackoverflow Blog - The Incredible Growth of Python](https://stackoverflow.blog/2017/09/06/incredible-growth-python/)\n",
    "* [stackoverflow Blog - Why is Python Growing So Quickly?](https://stackoverflow.blog/2017/09/14/python-growing-quickly/) (spoiler: pandas)"
   ]
  },
  {
   "cell_type": "markdown",
   "metadata": {},
   "source": [
    "### Widely used in tech industry and scientific instistutions\n",
    "\n",
    "* [8 World-Class Software Companies That Use Python](https://realpython.com/world-class-companies-using-python/)\n",
    "* [https://www.python.org/about/success/#scientific](Python Success Stories)\n",
    "    * e.g. [NASA](https://www.python.org/about/success/usa/), [CERN](https://cds.cern.ch/record/2274794)"
   ]
  },
  {
   "cell_type": "markdown",
   "metadata": {},
   "source": [
    "### THE language for data science (besides R)"
   ]
  },
  {
   "cell_type": "markdown",
   "metadata": {},
   "source": [
    "### The Zen of Python"
   ]
  },
  {
   "cell_type": "markdown",
   "metadata": {},
   "source": [
    "### A lot of syntactic sugar"
   ]
  },
  {
   "cell_type": "markdown",
   "metadata": {},
   "source": [
    "### Readability"
   ]
  },
  {
   "cell_type": "markdown",
   "metadata": {},
   "source": [
    "### Multiple programming paradigms"
   ]
  },
  {
   "cell_type": "markdown",
   "metadata": {},
   "source": [
    "### Batteries included ...\n",
    "\n",
    "Many module in the [standard libraries](https://docs.python.org/3/library/)"
   ]
  },
  {
   "cell_type": "markdown",
   "metadata": {},
   "source": [
    "### ... and countless third party libraries\n",
    "\n",
    "* [PyPI - Python Package Index](https://pypi.org/)"
   ]
  },
  {
   "cell_type": "markdown",
   "metadata": {},
   "source": [
    "### How to work with Python\n",
    "\n",
    "- REPL (python / ipython)\n",
    "- Python scripts\n",
    "- Jupyter Notebooks / Jupyter Lab"
   ]
  },
  {
   "cell_type": "markdown",
   "metadata": {},
   "source": [
    "### Great community\n",
    "\n",
    "Search for video on youtube:\n",
    "\n",
    "* [PyCon](https://www.youtube.com/results?search_query=PyCon&search_type=)\n",
    "* [SciPy](https://www.youtube.com/results?search_query=SciPy&search_type=)\n",
    "* [EuroSciPy](https://www.youtube.com/results?search_query=EuroPy&search_type=)\n",
    "* ... many more"
   ]
  },
  {
   "cell_type": "markdown",
   "metadata": {},
   "source": [
    "### Language development by the community - PEPs\n",
    "\n",
    "* [Python Enhancement Proposals](https://www.python.org/dev/peps/)"
   ]
  },
  {
   "cell_type": "markdown",
   "metadata": {},
   "source": [
    "## Live Demo"
   ]
  },
  {
   "cell_type": "markdown",
   "metadata": {},
   "source": [
    "### Getting help"
   ]
  },
  {
   "cell_type": "markdown",
   "metadata": {},
   "source": [
    "### Numpy\n",
    "\n",
    "http://www.numpy.org/"
   ]
  },
  {
   "cell_type": "markdown",
   "metadata": {},
   "source": [
    "### SciPy\n",
    "\n",
    "https://www.scipy.org/"
   ]
  },
  {
   "cell_type": "markdown",
   "metadata": {},
   "source": [
    "### pandas\n",
    "\n",
    "https://pandas.pydata.org/"
   ]
  },
  {
   "cell_type": "markdown",
   "metadata": {},
   "source": [
    "### scikit-learn\n",
    "\n",
    "http://scikit-learn.org/"
   ]
  },
  {
   "cell_type": "markdown",
   "metadata": {},
   "source": [
    "### matplotlib\n",
    "\n",
    "https://matplotlib.org/"
   ]
  },
  {
   "cell_type": "markdown",
   "metadata": {},
   "source": [
    "### seaborn\n",
    "\n",
    "https://pandas.pydata.org/"
   ]
  },
  {
   "cell_type": "markdown",
   "metadata": {},
   "source": [
    "### bokeh\n",
    "\n",
    "https://bokeh.pydata.org/en/latest/"
   ]
  },
  {
   "cell_type": "markdown",
   "metadata": {},
   "source": [
    "## How to start?\n",
    "\n",
    "Install [Anaconda](https://www.anaconda.com/download/#linux) that bring Python plus numerous scientific packages.\n"
   ]
  },
  {
   "cell_type": "markdown",
   "metadata": {},
   "source": [
    "## Questions?\n",
    "\n",
    "* 3D plotting with matplolib\n",
    "  * https://matplotlib.org/mpl_toolkits/mplot3d/tutorial.html\n",
    "* Compiling python\n",
    "  * ?\n",
    "* Cuda\n",
    "  * https://developer.nvidia.com/pycuda\n",
    "* IDEs\n",
    "  * spyder (coming with anaconda)\n",
    "  * PyCharm\n",
    "  * Every proper text editor (Emacs, Atom, neovim) has extension for Python\n",
    "* Parallel processing\n",
    "  * https://docs.python.org/3.6/library/multiprocessing.html\n",
    "  * https://docs.python.org/3/library/concurrency.html"
   ]
  }
 ],
 "metadata": {
  "kernelspec": {
   "display_name": "Python 3",
   "language": "python",
   "name": "python3"
  },
  "language_info": {
   "codemirror_mode": {
    "name": "ipython",
    "version": 3
   },
   "file_extension": ".py",
   "mimetype": "text/x-python",
   "name": "python",
   "nbconvert_exporter": "python",
   "pygments_lexer": "ipython3",
   "version": "3.6.4"
  }
 },
 "nbformat": 4,
 "nbformat_minor": 2
}
